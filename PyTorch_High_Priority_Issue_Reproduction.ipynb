{
  "nbformat": 4,
  "nbformat_minor": 0,
  "metadata": {
    "colab": {
      "name": "PyTorch High Priority Issue Reproduction.ipynb",
      "provenance": [],
      "collapsed_sections": [],
      "toc_visible": true
    },
    "kernelspec": {
      "name": "python3",
      "display_name": "Python 3"
    },
    "language_info": {
      "name": "python"
    },
    "accelerator": "GPU"
  },
  "cells": [
    {
      "cell_type": "markdown",
      "source": [
        "# High Priority Bugs for PyTorch\n"
      ],
      "metadata": {
        "id": "zDOWwVZgWB2z"
      }
    },
    {
      "cell_type": "markdown",
      "metadata": {
        "id": "xvc6utBe7v0A"
      },
      "source": [
        "Requires PyTorch Version: 1.10.0"
      ]
    },
    {
      "cell_type": "code",
      "source": [
        "!pip install torch==1.10.0"
      ],
      "metadata": {
        "id": "p6PAOsl7av5P",
        "outputId": "7e51a737-be08-4124-a27e-ca095e14d374",
        "colab": {
          "base_uri": "https://localhost:8080/"
        }
      },
      "execution_count": 9,
      "outputs": [
        {
          "output_type": "stream",
          "name": "stdout",
          "text": [
            "Requirement already satisfied: torch==1.10.0 in /usr/local/lib/python3.7/dist-packages (1.10.0+cu111)\n",
            "Requirement already satisfied: typing-extensions in /usr/local/lib/python3.7/dist-packages (from torch==1.10.0) (3.10.0.2)\n"
          ]
        }
      ]
    },
    {
      "cell_type": "code",
      "source": [
        "print(torch.__version__)"
      ],
      "metadata": {
        "colab": {
          "base_uri": "https://localhost:8080/"
        },
        "id": "iUrFiTBscndn",
        "outputId": "97fa59f1-6655-4dba-bd9d-6cd2aacd96fe"
      },
      "execution_count": 10,
      "outputs": [
        {
          "output_type": "stream",
          "name": "stdout",
          "text": [
            "1.10.0+cu111\n"
          ]
        }
      ]
    },
    {
      "cell_type": "markdown",
      "source": [
        "## Bug 1-3\n",
        "`torch.{h, v, d}split` crash when sections = 0. https://github.com/pytorch/pytorch/issues/69270"
      ],
      "metadata": {
        "id": "Mm36KTFQuVPg"
      }
    },
    {
      "cell_type": "code",
      "source": [
        "import torch\n",
        "tensor = torch.rand(torch.Size([2, 2, 4]), dtype=torch.float32)\n",
        "sections = 0\n",
        "res1 = torch.dsplit(tensor, sections)"
      ],
      "metadata": {
        "id": "tV1Ge5VquchK"
      },
      "execution_count": null,
      "outputs": []
    },
    {
      "cell_type": "code",
      "source": [
        "import torch\n",
        "tensor = torch.rand(torch.Size([2, 2, 4]), dtype=torch.float32)\n",
        "sections = 0\n",
        "res1 = torch.hsplit(tensor, sections)"
      ],
      "metadata": {
        "id": "OzJsZqjoueli"
      },
      "execution_count": null,
      "outputs": []
    },
    {
      "cell_type": "code",
      "source": [
        "import torch\n",
        "tensor = torch.rand(torch.Size([2, 2, 4]), dtype=torch.float32)\n",
        "sections = 0\n",
        "res1 = torch.vsplit(tensor, sections)"
      ],
      "metadata": {
        "id": "VAFFRoO-ufCk"
      },
      "execution_count": null,
      "outputs": []
    },
    {
      "cell_type": "markdown",
      "source": [
        "## Bug 4\n",
        "`max_unpool2d` returns a tensor with negative dimension. https://github.com/pytorch/pytorch/issues/73154"
      ],
      "metadata": {
        "id": "3fhTey1qZLBw"
      }
    },
    {
      "cell_type": "code",
      "source": [
        "import torch\n",
        "kernel_size = [3, 2, 2]\n",
        "output_size = [0, 1, 1]\n",
        "input = torch.rand([20, 16, 50, 44, 31], dtype=torch.float32)\n",
        "\n",
        "torch.nn.FractionalMaxPool3d(kernel_size,output_size=output_size)(input)\n",
        "# segmentation fault (core dumped)"
      ],
      "metadata": {
        "id": "pmxEdXCKZwRw"
      },
      "execution_count": null,
      "outputs": []
    },
    {
      "cell_type": "markdown",
      "source": [
        "## Bug 5-6\n",
        "`AdaptiveAvgPool{2|3}d` should not create tensor with negative dimension. https://github.com/pytorch/pytorch/issues/70232"
      ],
      "metadata": {
        "id": "pjvH6W_lW1cG"
      }
    },
    {
      "cell_type": "code",
      "source": [
        "import torch\n",
        "output_size = [-36, 0]\n",
        "arg_class = torch.nn.AdaptiveAvgPool2d(output_size)\n",
        "tensor = torch.rand([128, 2048, 4, 4], dtype=torch.float32)\n",
        "result = arg_class(tensor)\n",
        "print(result.shape)\n",
        "# torch.Size([128, 2048, -36, 0])"
      ],
      "metadata": {
        "id": "YzSp5onqW42k"
      },
      "execution_count": null,
      "outputs": []
    },
    {
      "cell_type": "code",
      "source": [
        "import torch\n",
        "output_size = [-36, 0, 0]\n",
        "arg_class = torch.nn.AdaptiveAvgPool3d(output_size)\n",
        "tensor = torch.rand([4, 4, 128, 2048, 4], dtype=torch.float32)\n",
        "result = arg_class(tensor)\n",
        "print(result.shape)\n",
        "# torch.Size([4, 4, -36, 0, 0])"
      ],
      "metadata": {
        "id": "42TcDfhOW8eg"
      },
      "execution_count": null,
      "outputs": []
    },
    {
      "cell_type": "code",
      "source": [
        "import torch\n",
        "size = [2, 3]\n",
        "stride = [-1, 2]\n",
        "res = torch.empty_strided(size,stride,)\n",
        "print(torch.sum(res))\n",
        "# tensor(nan)\n",
        "print(res.shape)\n",
        "# torch.Size([2, 3])\n",
        "print(res)\n",
        "# RuntimeError: setStorage: sizes [6], strides [2], storage offset 0, and itemsize 4 requiring a storage size of 44 are out of bounds for storage of size 16"
      ],
      "metadata": {
        "id": "UDNwt8PeXMsB"
      },
      "execution_count": null,
      "outputs": []
    },
    {
      "cell_type": "markdown",
      "source": [
        "## Bug 7-8\n",
        "`torch.{addcmul,addcdiv}` triggers INTERNAL ASSERT FAILED. https://github.com/pytorch/pytorch/issues/70486"
      ],
      "metadata": {
        "id": "3HxZXStzXkir"
      }
    },
    {
      "cell_type": "code",
      "source": [
        "import torch\n",
        "arg_1 = torch.rand([5, 5], dtype=torch.float64)\n",
        "arg_2 = torch.rand([5, 5], dtype=torch.float64)\n",
        "arg_3 = torch.rand([1, 5], dtype=torch.complex128)\n",
        "res = torch.addcmul(arg_1,arg_2,arg_3)\n",
        "# RuntimeError: !(has_different_input_dtypes && !config.promote_inputs_to_common_dtype_ && (has_undefined_outputs || config.enforce_safe_casting_to_output_ || config.cast_common_dtype_to_outputs_))INTERNAL ASSERT FAILED at \"../aten/src/ATen/TensorIterator.cpp\":331, please report a bug to PyTorch. "
      ],
      "metadata": {
        "id": "FES45nXpXtok"
      },
      "execution_count": null,
      "outputs": []
    },
    {
      "cell_type": "code",
      "source": [
        "import torch\n",
        "arg_1 = torch.rand([1], dtype=torch.complex128)\n",
        "arg_2 = torch.rand([5, 5, 1], dtype=torch.complex128)\n",
        "arg_3 = torch.rand([1, 3], dtype=torch.float32)\n",
        "res = torch.addcdiv(arg_1,arg_2,arg_3,)\n",
        "# RuntimeError: !(has_different_input_dtypes && !config.promote_inputs_to_common_dtype_ && (has_undefined_outputs || config.enforce_safe_casting_to_output_ || config.cast_common_dtype_to_outputs_))INTERNAL ASSERT FAILED at \"../aten/src/ATen/TensorIterator.cpp\":331, please report a bug to PyTorch. "
      ],
      "metadata": {
        "id": "HcijoI7VXyVr"
      },
      "execution_count": null,
      "outputs": []
    },
    {
      "cell_type": "markdown",
      "source": [
        "## Bug 9\n",
        "`torch.as_strided` can create a tensor with negative dimension. https://github.com/pytorch/pytorch/issues/70672"
      ],
      "metadata": {
        "id": "ItT2HKzDX1G6"
      }
    },
    {
      "cell_type": "code",
      "source": [
        "import torch\n",
        "a = torch.rand([3, 3])\n",
        "b = torch.as_strided(a, [1, -1], [1, 1])\n",
        "print(b.shape)\n",
        "# torch.Size([1, -1])"
      ],
      "metadata": {
        "id": "p9adV0K5X9WO"
      },
      "execution_count": null,
      "outputs": []
    },
    {
      "cell_type": "markdown",
      "source": [
        "## Bug 10\n",
        "`Tensor.baddbmm_` unexpectedly succeeds. https://github.com/pytorch/pytorch/issues/71085"
      ],
      "metadata": {
        "id": "paPZJArwX_Lh"
      }
    },
    {
      "cell_type": "code",
      "source": [
        "import torch\n",
        "results = dict()\n",
        "input = torch.rand([10, 3, 5, 0], dtype=torch.float32)\n",
        "batch1 = torch.rand([10, 3, 4], dtype=torch.float32)\n",
        "batch2 = torch.rand([10, 4, 5], dtype=torch.float32)\n",
        "input.clone().baddbmm(batch1, batch2)\n",
        "# RuntimeError: expand(torch.FloatTensor{[10, 3, 5, 0]}, size=[10, 3, 5]): the number of sizes provided (3) must be greater or equal to the number of dimensions in the tensor (4)\n",
        "input.clone().baddbmm_(batch1, batch2)\n",
        "# succeed"
      ],
      "metadata": {
        "id": "wCHGkiCBYGZR"
      },
      "execution_count": null,
      "outputs": []
    },
    {
      "cell_type": "markdown",
      "source": [
        "## Bug 11\n",
        "`embedding_bag` will trigger segmentation fault in Linux. https://github.com/pytorch/pytorch/issues/71094"
      ],
      "metadata": {
        "id": "XFu9fqQHYZih"
      }
    },
    {
      "cell_type": "code",
      "source": [
        "import torch\n",
        "\n",
        "input = torch.randint(-128, 128, [3, 6], dtype=torch.int64)\n",
        "weight = torch.rand([30522, 384], dtype=torch.float32)\n",
        "padding_idx = 0\n",
        "max_norm = None\n",
        "norm_type = 2.0\n",
        "scale_grad_by_freq = False\n",
        "sparse = False\n",
        "torch.nn.functional.embedding_bag(\n",
        "    input,\n",
        "    weight,\n",
        "    max_norm=max_norm,\n",
        "    norm_type=norm_type,\n",
        "    scale_grad_by_freq=scale_grad_by_freq,\n",
        "    sparse=sparse,\n",
        "    padding_idx=padding_idx,\n",
        ")"
      ],
      "metadata": {
        "id": "sCVFwKytYeT5"
      },
      "execution_count": null,
      "outputs": []
    },
    {
      "cell_type": "markdown",
      "source": [
        "## Bug 12\n",
        "`torch.set_default_dtype` will crash with `complex` dtype. https://github.com/pytorch/pytorch/issues/71674"
      ],
      "metadata": {
        "id": "UINr9trwYtq7"
      }
    },
    {
      "cell_type": "code",
      "source": [
        "import torch\n",
        "d = torch.complex64\n",
        "torch.set_default_dtype(d)\n",
        "# segmentation fault"
      ],
      "metadata": {
        "id": "eFkK6WVjYwcf"
      },
      "execution_count": null,
      "outputs": []
    },
    {
      "cell_type": "markdown",
      "source": [
        "## Bug 13\n",
        "`tril_indices` and `triu_indices` have strange behavior when `row=0`. https://github.com/pytorch/pytorch/issues/72900"
      ],
      "metadata": {
        "id": "g-0Er105Y4x1"
      }
    },
    {
      "cell_type": "code",
      "source": [
        "import torch\n",
        "results = dict()\n",
        "row = 0\n",
        "col = 1\n",
        "offset = 2\n",
        "try:\n",
        "  results[\"res_1\"] = torch.tril_indices(row, col, offset=offset)\n",
        "except Exception as e:\n",
        "  results[\"err_1\"] = str(e)\n",
        "try:\n",
        "  results[\"res_2\"] = torch.triu_indices(row,col,offset=offset)\n",
        "except Exception as e:\n",
        "  results[\"err_2\"] = str(e)\n",
        "\n",
        "print(results)"
      ],
      "metadata": {
        "id": "qx-WH6gRY74-",
        "colab": {
          "base_uri": "https://localhost:8080/"
        },
        "outputId": "f408c03a-4251-4498-f833-13c5a6aa6c83"
      },
      "execution_count": 3,
      "outputs": [
        {
          "output_type": "stream",
          "name": "stdout",
          "text": [
            "{'res_1': tensor([[0],\n",
            "        [0]]), 'err_2': 'Trying to create tensor with negative dimension -1: [2, -1]'}\n"
          ]
        }
      ]
    },
    {
      "cell_type": "markdown",
      "source": [
        "## Bug 14-15\n",
        "`irfft2` and `irfftn` INTERNAL ASSERT FAILED. https://github.com/pytorch/pytorch/issues/72910"
      ],
      "metadata": {
        "id": "PBn_69HLY-iK"
      }
    },
    {
      "cell_type": "code",
      "source": [
        "import torch\n",
        "results = dict()\n",
        "input = torch.rand([2, 1])\n",
        "torch.fft.irfftn(input)\n",
        "# RuntimeError: out_size == signal_size[i + 1] || out_size == (signal_size[i + 1] / 2) + 1INTERNAL ASSERT FAILED at \"../aten/src/ATen/native/mkl/SpectralOps.cpp\":458, please report a bug to PyTorch\n",
        "torch.fft.irfft2(input)\n",
        "# RuntimeError: out_size == signal_size[i + 1] || out_size == (signal_size[i + 1] / 2) + 1INTERNAL ASSERT FAILED at \"../aten/src/ATen/native/mkl/SpectralOps.cpp\":458, please report a bug to PyTorch."
      ],
      "metadata": {
        "id": "WTS0xlxtZEbY",
        "colab": {
          "base_uri": "https://localhost:8080/",
          "height": 280
        },
        "outputId": "ef5688d4-97d5-4398-aea2-3bd482a61016"
      },
      "execution_count": 4,
      "outputs": [
        {
          "output_type": "error",
          "ename": "RuntimeError",
          "evalue": "ignored",
          "traceback": [
            "\u001b[0;31m---------------------------------------------------------------------------\u001b[0m",
            "\u001b[0;31mRuntimeError\u001b[0m                              Traceback (most recent call last)",
            "\u001b[0;32m<ipython-input-4-debf8e9be427>\u001b[0m in \u001b[0;36m<module>\u001b[0;34m()\u001b[0m\n\u001b[1;32m      2\u001b[0m \u001b[0mresults\u001b[0m \u001b[0;34m=\u001b[0m \u001b[0mdict\u001b[0m\u001b[0;34m(\u001b[0m\u001b[0;34m)\u001b[0m\u001b[0;34m\u001b[0m\u001b[0;34m\u001b[0m\u001b[0m\n\u001b[1;32m      3\u001b[0m \u001b[0minput\u001b[0m \u001b[0;34m=\u001b[0m \u001b[0mtorch\u001b[0m\u001b[0;34m.\u001b[0m\u001b[0mrand\u001b[0m\u001b[0;34m(\u001b[0m\u001b[0;34m[\u001b[0m\u001b[0;36m2\u001b[0m\u001b[0;34m,\u001b[0m \u001b[0;36m1\u001b[0m\u001b[0;34m]\u001b[0m\u001b[0;34m)\u001b[0m\u001b[0;34m\u001b[0m\u001b[0;34m\u001b[0m\u001b[0m\n\u001b[0;32m----> 4\u001b[0;31m \u001b[0mtorch\u001b[0m\u001b[0;34m.\u001b[0m\u001b[0mfft\u001b[0m\u001b[0;34m.\u001b[0m\u001b[0mirfftn\u001b[0m\u001b[0;34m(\u001b[0m\u001b[0minput\u001b[0m\u001b[0;34m)\u001b[0m\u001b[0;34m\u001b[0m\u001b[0;34m\u001b[0m\u001b[0m\n\u001b[0m\u001b[1;32m      5\u001b[0m \u001b[0;31m# RuntimeError: out_size == signal_size[i + 1] || out_size == (signal_size[i + 1] / 2) + 1INTERNAL ASSERT FAILED at \"../aten/src/ATen/native/mkl/SpectralOps.cpp\":458, please report a bug to PyTorch\u001b[0m\u001b[0;34m\u001b[0m\u001b[0;34m\u001b[0m\u001b[0;34m\u001b[0m\u001b[0m\n\u001b[1;32m      6\u001b[0m \u001b[0mtorch\u001b[0m\u001b[0;34m.\u001b[0m\u001b[0mfft\u001b[0m\u001b[0;34m.\u001b[0m\u001b[0mirfft2\u001b[0m\u001b[0;34m(\u001b[0m\u001b[0minput\u001b[0m\u001b[0;34m)\u001b[0m\u001b[0;34m\u001b[0m\u001b[0;34m\u001b[0m\u001b[0m\n",
            "\u001b[0;31mRuntimeError\u001b[0m: out_size == signal_size[i + 1] || out_size == (signal_size[i + 1] / 2) + 1INTERNAL ASSERT FAILED at \"../aten/src/ATen/native/mkl/SpectralOps.cpp\":458, please report a bug to PyTorch. "
          ]
        }
      ]
    },
    {
      "cell_type": "code",
      "source": [
        "import torch\n",
        "input = torch.rand([1, 1, 2, 2], dtype=torch.float32)\n",
        "indices = torch.randint(-16,1024,[1, 1, 2, 2], dtype=torch.int64)\n",
        "kernel_size = [16, -1024]\n",
        "stride = [-16, 1]\n",
        "print(torch.nn.functional.max_unpool2d(input, indices, kernel_size, stride))\n",
        "# tensor([], size=(1, 1, 0, -1023))"
      ],
      "metadata": {
        "id": "Z3wQmMqqZQLM"
      },
      "execution_count": null,
      "outputs": []
    },
    {
      "cell_type": "markdown",
      "source": [
        "## Bug 16\n",
        "`torch.kthvalue` returns random value when the k is invalid. https://github.com/pytorch/pytorch/issues/68813"
      ],
      "metadata": {
        "id": "dKC5xaBmtoAV"
      }
    },
    {
      "cell_type": "code",
      "metadata": {
        "id": "54pgyDb97ZBp"
      },
      "source": [
        "import torch\n",
        "input = torch.tensor([0,1,2,3,4])\n",
        "k = 6\n",
        "res1 = torch.kthvalue(input, k)\n",
        "res2 = input.kthvalue(k)\n",
        "print(res1)\n",
        "print(res2)"
      ],
      "execution_count": null,
      "outputs": []
    },
    {
      "cell_type": "markdown",
      "source": [
        "## Bug 17\n",
        "`CrossEntropyLoss` triggers floating point exception. https://github.com/pytorch/pytorch/issues/73165"
      ],
      "metadata": {
        "id": "yU0_0GqrZU-D"
      }
    },
    {
      "cell_type": "code",
      "source": [
        "import torch\n",
        "results = dict()\n",
        "input_1 = torch.rand([5, 0], dtype=torch.float32)\n",
        "input_2 = torch.rand([5, 0], dtype=torch.float32)\n",
        "\n",
        "torch.nn.CrossEntropyLoss()(input_1, input_2)\n",
        "# floating point exception"
      ],
      "metadata": {
        "id": "YDzp4a6fZasV"
      },
      "execution_count": null,
      "outputs": []
    },
    {
      "cell_type": "markdown",
      "source": [
        "## Bug 18\n",
        "`LayerNorm` triggers INTERNAL ASSERT. https://github.com/pytorch/pytorch/issues/73174"
      ],
      "metadata": {
        "id": "eTKswsepZdkZ"
      }
    },
    {
      "cell_type": "code",
      "source": [
        "import torch\n",
        "normalized_shape = [1024]\n",
        "layer = torch.nn.LayerNorm(normalized_shape)\n",
        "input = torch.randint(0,8, [0, 1, 1024])\n",
        "res = layer(input)\n",
        "# RuntimeError: isDifferentiableType(variable.scalar_type())INTERNAL ASSERT FAILED at \"../torch/csrc/autograd/functions/utils.h\":65, please report a bug to PyTorch."
      ],
      "metadata": {
        "id": "422xyIncZmTx"
      },
      "execution_count": null,
      "outputs": []
    },
    {
      "cell_type": "markdown",
      "source": [
        "## Bug 19-20\n",
        "`FractionalMaxPool{2,3}d` trigger segmentation fault when `output_size` contains 0. https://github.com/pytorch/pytorch/issues/73624"
      ],
      "metadata": {
        "id": "5LFyi7nWZoeH"
      }
    },
    {
      "cell_type": "code",
      "source": [
        "import torch\n",
        "kernel_size = [2, 2]\n",
        "output_size = [0, 1]\n",
        "input = torch.rand([16, 50, 44, 31], dtype=torch.float32)\n",
        "\n",
        "torch.nn.FractionalMaxPool2d(kernel_size,output_size=output_size)(input)\n",
        "# segmentation fault (core dumped)"
      ],
      "metadata": {
        "id": "W9e0XVCmZugJ"
      },
      "execution_count": null,
      "outputs": []
    },
    {
      "cell_type": "markdown",
      "source": [
        "## Bug 21\n",
        "Many APIs `INTERNAL ASSERT FAILED` when promoting `complex32` dtype. https://github.com/pytorch/pytorch/issues/71671. https://github.com/pytorch/pytorch/issues/71680."
      ],
      "metadata": {
        "id": "rwI9Mc0OZy21"
      }
    },
    {
      "cell_type": "code",
      "source": [
        "import torch\n",
        "results = dict()\n",
        "input = torch.rand([1], dtype=torch.float64)\n",
        "other = torch.rand([1], dtype=torch.complex32)\n",
        "try:\n",
        "  results[\"res\"] = torch.add(input, other)\n",
        "except Exception as e:\n",
        "  results[\"err\"] = \"ERROR:\"+str(e)\n",
        "print(results)"
      ],
      "metadata": {
        "id": "3BQJSfIfZ57l",
        "colab": {
          "base_uri": "https://localhost:8080/"
        },
        "outputId": "962f2a16-1a9e-4105-904f-34a279df8c86"
      },
      "execution_count": 5,
      "outputs": [
        {
          "output_type": "stream",
          "name": "stdout",
          "text": [
            "{'err': 'ERROR:common_dtype_ != ScalarType::UndefinedINTERNAL ASSERT FAILED at \"../aten/src/ATen/TensorIterator.cpp\":236, please report a bug to PyTorch. '}\n"
          ]
        }
      ]
    },
    {
      "cell_type": "markdown",
      "source": [
        "## Bug 22\n",
        "`torch.broadcast_to` can create tensor with negative dimension. https://github.com/pytorch/pytorch/issues/70398"
      ],
      "metadata": {
        "id": "5f3JNT1AXTSC"
      }
    },
    {
      "cell_type": "code",
      "source": [
        "import torch\n",
        "input = torch.rand([3])\n",
        "shape = [-2, 3]\n",
        "res = torch.broadcast_to(input,shape,)\n",
        "print(res.shape)\n",
        "# torch.Size([-2, 3])\n",
        "print(torch.sum(res))\n",
        "# tensor(0.)\n",
        "torch.all(res)\n",
        "# RuntimeError: Trying to create tensor with negative dimension -2: [-2, 3]"
      ],
      "metadata": {
        "id": "awVS8eREXcLD",
        "colab": {
          "base_uri": "https://localhost:8080/",
          "height": 262
        },
        "outputId": "27d0c433-3d6e-460f-9a48-3654dfa0ac8d"
      },
      "execution_count": 6,
      "outputs": [
        {
          "output_type": "stream",
          "name": "stdout",
          "text": [
            "torch.Size([-2, 3])\n",
            "tensor(0.)\n"
          ]
        },
        {
          "output_type": "error",
          "ename": "RuntimeError",
          "evalue": "ignored",
          "traceback": [
            "\u001b[0;31m---------------------------------------------------------------------------\u001b[0m",
            "\u001b[0;31mRuntimeError\u001b[0m                              Traceback (most recent call last)",
            "\u001b[0;32m<ipython-input-6-eb501e79130e>\u001b[0m in \u001b[0;36m<module>\u001b[0;34m()\u001b[0m\n\u001b[1;32m      7\u001b[0m \u001b[0mprint\u001b[0m\u001b[0;34m(\u001b[0m\u001b[0mtorch\u001b[0m\u001b[0;34m.\u001b[0m\u001b[0msum\u001b[0m\u001b[0;34m(\u001b[0m\u001b[0mres\u001b[0m\u001b[0;34m)\u001b[0m\u001b[0;34m)\u001b[0m\u001b[0;34m\u001b[0m\u001b[0;34m\u001b[0m\u001b[0m\n\u001b[1;32m      8\u001b[0m \u001b[0;31m# tensor(0.)\u001b[0m\u001b[0;34m\u001b[0m\u001b[0;34m\u001b[0m\u001b[0;34m\u001b[0m\u001b[0m\n\u001b[0;32m----> 9\u001b[0;31m \u001b[0mtorch\u001b[0m\u001b[0;34m.\u001b[0m\u001b[0mall\u001b[0m\u001b[0;34m(\u001b[0m\u001b[0mres\u001b[0m\u001b[0;34m)\u001b[0m\u001b[0;34m\u001b[0m\u001b[0;34m\u001b[0m\u001b[0m\n\u001b[0m\u001b[1;32m     10\u001b[0m \u001b[0;31m# RuntimeError: Trying to create tensor with negative dimension -2: [-2, 3]\u001b[0m\u001b[0;34m\u001b[0m\u001b[0;34m\u001b[0m\u001b[0;34m\u001b[0m\u001b[0m\n",
            "\u001b[0;31mRuntimeError\u001b[0m: Trying to create tensor with negative dimension -2: [-2, 3]"
          ]
        }
      ]
    },
    {
      "cell_type": "code",
      "source": [
        "import torch\n",
        "input = torch.rand([3])\n",
        "shape = [-2, 3]\n",
        "res = input.expand(shape)\n",
        "print(res.shape)\n",
        "print(torch.sum(res))\n",
        "torch.all(res)"
      ],
      "metadata": {
        "id": "ZIQyJC_HXh_E",
        "colab": {
          "base_uri": "https://localhost:8080/",
          "height": 244
        },
        "outputId": "d47dc9b1-d0be-41c8-f31c-7a68f0f66fd0"
      },
      "execution_count": 7,
      "outputs": [
        {
          "output_type": "stream",
          "name": "stdout",
          "text": [
            "torch.Size([-2, 3])\n",
            "tensor(0.)\n"
          ]
        },
        {
          "output_type": "error",
          "ename": "RuntimeError",
          "evalue": "ignored",
          "traceback": [
            "\u001b[0;31m---------------------------------------------------------------------------\u001b[0m",
            "\u001b[0;31mRuntimeError\u001b[0m                              Traceback (most recent call last)",
            "\u001b[0;32m<ipython-input-7-ffef75ad8f68>\u001b[0m in \u001b[0;36m<module>\u001b[0;34m()\u001b[0m\n\u001b[1;32m      5\u001b[0m \u001b[0mprint\u001b[0m\u001b[0;34m(\u001b[0m\u001b[0mres\u001b[0m\u001b[0;34m.\u001b[0m\u001b[0mshape\u001b[0m\u001b[0;34m)\u001b[0m\u001b[0;34m\u001b[0m\u001b[0;34m\u001b[0m\u001b[0m\n\u001b[1;32m      6\u001b[0m \u001b[0mprint\u001b[0m\u001b[0;34m(\u001b[0m\u001b[0mtorch\u001b[0m\u001b[0;34m.\u001b[0m\u001b[0msum\u001b[0m\u001b[0;34m(\u001b[0m\u001b[0mres\u001b[0m\u001b[0;34m)\u001b[0m\u001b[0;34m)\u001b[0m\u001b[0;34m\u001b[0m\u001b[0;34m\u001b[0m\u001b[0m\n\u001b[0;32m----> 7\u001b[0;31m \u001b[0mtorch\u001b[0m\u001b[0;34m.\u001b[0m\u001b[0mall\u001b[0m\u001b[0;34m(\u001b[0m\u001b[0mres\u001b[0m\u001b[0;34m)\u001b[0m\u001b[0;34m\u001b[0m\u001b[0;34m\u001b[0m\u001b[0m\n\u001b[0m",
            "\u001b[0;31mRuntimeError\u001b[0m: Trying to create tensor with negative dimension -2: [-2, 3]"
          ]
        }
      ]
    },
    {
      "cell_type": "markdown",
      "source": [
        "## Bug 23\n",
        "`torch.empty_strided` works when the stride is negative. https://github.com/pytorch/pytorch/issues/70397"
      ],
      "metadata": {
        "id": "TH3TbMvgXG-0"
      }
    },
    {
      "cell_type": "code",
      "source": [
        "import torch\n",
        "size = [2, 3]\n",
        "stride = [-1, 2]\n",
        "res = torch.empty_strided(size,stride,)\n",
        "print(torch.sum(res))\n",
        "# tensor(nan)\n",
        "print(res.shape)\n",
        "# torch.Size([2, 3])\n",
        "print(res)\n",
        "# RuntimeError: setStorage: sizes [6], strides [2], storage offset 0, and itemsize 4 requiring a storage size of 44 are out of bounds for storage of size 16"
      ],
      "metadata": {
        "id": "N3jc4T6paKCo",
        "colab": {
          "base_uri": "https://localhost:8080/",
          "height": 413
        },
        "outputId": "abfa9e59-03db-4099-ffe0-90340e348b9c"
      },
      "execution_count": 8,
      "outputs": [
        {
          "output_type": "stream",
          "name": "stdout",
          "text": [
            "tensor(nan)\n",
            "torch.Size([2, 3])\n"
          ]
        },
        {
          "output_type": "error",
          "ename": "RuntimeError",
          "evalue": "ignored",
          "traceback": [
            "\u001b[0;31m---------------------------------------------------------------------------\u001b[0m",
            "\u001b[0;31mRuntimeError\u001b[0m                              Traceback (most recent call last)",
            "\u001b[0;32m<ipython-input-8-51d33f899b97>\u001b[0m in \u001b[0;36m<module>\u001b[0;34m()\u001b[0m\n\u001b[1;32m      7\u001b[0m \u001b[0mprint\u001b[0m\u001b[0;34m(\u001b[0m\u001b[0mres\u001b[0m\u001b[0;34m.\u001b[0m\u001b[0mshape\u001b[0m\u001b[0;34m)\u001b[0m\u001b[0;34m\u001b[0m\u001b[0;34m\u001b[0m\u001b[0m\n\u001b[1;32m      8\u001b[0m \u001b[0;31m# torch.Size([2, 3])\u001b[0m\u001b[0;34m\u001b[0m\u001b[0;34m\u001b[0m\u001b[0;34m\u001b[0m\u001b[0m\n\u001b[0;32m----> 9\u001b[0;31m \u001b[0mprint\u001b[0m\u001b[0;34m(\u001b[0m\u001b[0mres\u001b[0m\u001b[0;34m)\u001b[0m\u001b[0;34m\u001b[0m\u001b[0;34m\u001b[0m\u001b[0m\n\u001b[0m\u001b[1;32m     10\u001b[0m \u001b[0;31m# RuntimeError: setStorage: sizes [6], strides [2], storage offset 0, and itemsize 4 requiring a storage size of 44 are out of bounds for storage of size 16\u001b[0m\u001b[0;34m\u001b[0m\u001b[0;34m\u001b[0m\u001b[0;34m\u001b[0m\u001b[0m\n",
            "\u001b[0;32m/usr/local/lib/python3.7/dist-packages/torch/_tensor.py\u001b[0m in \u001b[0;36m__repr__\u001b[0;34m(self)\u001b[0m\n\u001b[1;32m    247\u001b[0m             \u001b[0;32mreturn\u001b[0m \u001b[0mhandle_torch_function\u001b[0m\u001b[0;34m(\u001b[0m\u001b[0mTensor\u001b[0m\u001b[0;34m.\u001b[0m\u001b[0m__repr__\u001b[0m\u001b[0;34m,\u001b[0m \u001b[0;34m(\u001b[0m\u001b[0mself\u001b[0m\u001b[0;34m,\u001b[0m\u001b[0;34m)\u001b[0m\u001b[0;34m,\u001b[0m \u001b[0mself\u001b[0m\u001b[0;34m)\u001b[0m\u001b[0;34m\u001b[0m\u001b[0;34m\u001b[0m\u001b[0m\n\u001b[1;32m    248\u001b[0m         \u001b[0;31m# All strings are unicode in Python 3.\u001b[0m\u001b[0;34m\u001b[0m\u001b[0;34m\u001b[0m\u001b[0;34m\u001b[0m\u001b[0m\n\u001b[0;32m--> 249\u001b[0;31m         \u001b[0;32mreturn\u001b[0m \u001b[0mtorch\u001b[0m\u001b[0;34m.\u001b[0m\u001b[0m_tensor_str\u001b[0m\u001b[0;34m.\u001b[0m\u001b[0m_str\u001b[0m\u001b[0;34m(\u001b[0m\u001b[0mself\u001b[0m\u001b[0;34m)\u001b[0m\u001b[0;34m\u001b[0m\u001b[0;34m\u001b[0m\u001b[0m\n\u001b[0m\u001b[1;32m    250\u001b[0m \u001b[0;34m\u001b[0m\u001b[0m\n\u001b[1;32m    251\u001b[0m     \u001b[0;32mdef\u001b[0m \u001b[0mbackward\u001b[0m\u001b[0;34m(\u001b[0m\u001b[0mself\u001b[0m\u001b[0;34m,\u001b[0m \u001b[0mgradient\u001b[0m\u001b[0;34m=\u001b[0m\u001b[0;32mNone\u001b[0m\u001b[0;34m,\u001b[0m \u001b[0mretain_graph\u001b[0m\u001b[0;34m=\u001b[0m\u001b[0;32mNone\u001b[0m\u001b[0;34m,\u001b[0m \u001b[0mcreate_graph\u001b[0m\u001b[0;34m=\u001b[0m\u001b[0;32mFalse\u001b[0m\u001b[0;34m,\u001b[0m \u001b[0minputs\u001b[0m\u001b[0;34m=\u001b[0m\u001b[0;32mNone\u001b[0m\u001b[0;34m)\u001b[0m\u001b[0;34m:\u001b[0m\u001b[0;34m\u001b[0m\u001b[0;34m\u001b[0m\u001b[0m\n",
            "\u001b[0;32m/usr/local/lib/python3.7/dist-packages/torch/_tensor_str.py\u001b[0m in \u001b[0;36m_str\u001b[0;34m(self)\u001b[0m\n\u001b[1;32m    413\u001b[0m \u001b[0;32mdef\u001b[0m \u001b[0m_str\u001b[0m\u001b[0;34m(\u001b[0m\u001b[0mself\u001b[0m\u001b[0;34m)\u001b[0m\u001b[0;34m:\u001b[0m\u001b[0;34m\u001b[0m\u001b[0;34m\u001b[0m\u001b[0m\n\u001b[1;32m    414\u001b[0m     \u001b[0;32mwith\u001b[0m \u001b[0mtorch\u001b[0m\u001b[0;34m.\u001b[0m\u001b[0mno_grad\u001b[0m\u001b[0;34m(\u001b[0m\u001b[0;34m)\u001b[0m\u001b[0;34m:\u001b[0m\u001b[0;34m\u001b[0m\u001b[0;34m\u001b[0m\u001b[0m\n\u001b[0;32m--> 415\u001b[0;31m         \u001b[0;32mreturn\u001b[0m \u001b[0m_str_intern\u001b[0m\u001b[0;34m(\u001b[0m\u001b[0mself\u001b[0m\u001b[0;34m)\u001b[0m\u001b[0;34m\u001b[0m\u001b[0;34m\u001b[0m\u001b[0m\n\u001b[0m",
            "\u001b[0;32m/usr/local/lib/python3.7/dist-packages/torch/_tensor_str.py\u001b[0m in \u001b[0;36m_str_intern\u001b[0;34m(inp)\u001b[0m\n\u001b[1;32m    388\u001b[0m                     \u001b[0mtensor_str\u001b[0m \u001b[0;34m=\u001b[0m \u001b[0m_tensor_str\u001b[0m\u001b[0;34m(\u001b[0m\u001b[0mself\u001b[0m\u001b[0;34m.\u001b[0m\u001b[0mto_dense\u001b[0m\u001b[0;34m(\u001b[0m\u001b[0;34m)\u001b[0m\u001b[0;34m,\u001b[0m \u001b[0mindent\u001b[0m\u001b[0;34m)\u001b[0m\u001b[0;34m\u001b[0m\u001b[0;34m\u001b[0m\u001b[0m\n\u001b[1;32m    389\u001b[0m                 \u001b[0;32melse\u001b[0m\u001b[0;34m:\u001b[0m\u001b[0;34m\u001b[0m\u001b[0;34m\u001b[0m\u001b[0m\n\u001b[0;32m--> 390\u001b[0;31m                     \u001b[0mtensor_str\u001b[0m \u001b[0;34m=\u001b[0m \u001b[0m_tensor_str\u001b[0m\u001b[0;34m(\u001b[0m\u001b[0mself\u001b[0m\u001b[0;34m,\u001b[0m \u001b[0mindent\u001b[0m\u001b[0;34m)\u001b[0m\u001b[0;34m\u001b[0m\u001b[0;34m\u001b[0m\u001b[0m\n\u001b[0m\u001b[1;32m    391\u001b[0m \u001b[0;34m\u001b[0m\u001b[0m\n\u001b[1;32m    392\u001b[0m     \u001b[0;32mif\u001b[0m \u001b[0mself\u001b[0m\u001b[0;34m.\u001b[0m\u001b[0mlayout\u001b[0m \u001b[0;34m!=\u001b[0m \u001b[0mtorch\u001b[0m\u001b[0;34m.\u001b[0m\u001b[0mstrided\u001b[0m\u001b[0;34m:\u001b[0m\u001b[0;34m\u001b[0m\u001b[0;34m\u001b[0m\u001b[0m\n",
            "\u001b[0;32m/usr/local/lib/python3.7/dist-packages/torch/_tensor_str.py\u001b[0m in \u001b[0;36m_tensor_str\u001b[0;34m(self, indent)\u001b[0m\n\u001b[1;32m    249\u001b[0m         \u001b[0;32mreturn\u001b[0m \u001b[0m_tensor_str_with_formatter\u001b[0m\u001b[0;34m(\u001b[0m\u001b[0mself\u001b[0m\u001b[0;34m,\u001b[0m \u001b[0mindent\u001b[0m\u001b[0;34m,\u001b[0m \u001b[0msummarize\u001b[0m\u001b[0;34m,\u001b[0m \u001b[0mreal_formatter\u001b[0m\u001b[0;34m,\u001b[0m \u001b[0mimag_formatter\u001b[0m\u001b[0;34m)\u001b[0m\u001b[0;34m\u001b[0m\u001b[0;34m\u001b[0m\u001b[0m\n\u001b[1;32m    250\u001b[0m     \u001b[0;32melse\u001b[0m\u001b[0;34m:\u001b[0m\u001b[0;34m\u001b[0m\u001b[0;34m\u001b[0m\u001b[0m\n\u001b[0;32m--> 251\u001b[0;31m         \u001b[0mformatter\u001b[0m \u001b[0;34m=\u001b[0m \u001b[0m_Formatter\u001b[0m\u001b[0;34m(\u001b[0m\u001b[0mget_summarized_data\u001b[0m\u001b[0;34m(\u001b[0m\u001b[0mself\u001b[0m\u001b[0;34m)\u001b[0m \u001b[0;32mif\u001b[0m \u001b[0msummarize\u001b[0m \u001b[0;32melse\u001b[0m \u001b[0mself\u001b[0m\u001b[0;34m)\u001b[0m\u001b[0;34m\u001b[0m\u001b[0;34m\u001b[0m\u001b[0m\n\u001b[0m\u001b[1;32m    252\u001b[0m         \u001b[0;32mreturn\u001b[0m \u001b[0m_tensor_str_with_formatter\u001b[0m\u001b[0;34m(\u001b[0m\u001b[0mself\u001b[0m\u001b[0;34m,\u001b[0m \u001b[0mindent\u001b[0m\u001b[0;34m,\u001b[0m \u001b[0msummarize\u001b[0m\u001b[0;34m,\u001b[0m \u001b[0mformatter\u001b[0m\u001b[0;34m)\u001b[0m\u001b[0;34m\u001b[0m\u001b[0;34m\u001b[0m\u001b[0m\n\u001b[1;32m    253\u001b[0m \u001b[0;34m\u001b[0m\u001b[0m\n",
            "\u001b[0;32m/usr/local/lib/python3.7/dist-packages/torch/_tensor_str.py\u001b[0m in \u001b[0;36m__init__\u001b[0;34m(self, tensor)\u001b[0m\n\u001b[1;32m     80\u001b[0m \u001b[0;34m\u001b[0m\u001b[0m\n\u001b[1;32m     81\u001b[0m         \u001b[0;32mwith\u001b[0m \u001b[0mtorch\u001b[0m\u001b[0;34m.\u001b[0m\u001b[0mno_grad\u001b[0m\u001b[0;34m(\u001b[0m\u001b[0;34m)\u001b[0m\u001b[0;34m:\u001b[0m\u001b[0;34m\u001b[0m\u001b[0;34m\u001b[0m\u001b[0m\n\u001b[0;32m---> 82\u001b[0;31m             \u001b[0mtensor_view\u001b[0m \u001b[0;34m=\u001b[0m \u001b[0mtensor\u001b[0m\u001b[0;34m.\u001b[0m\u001b[0mreshape\u001b[0m\u001b[0;34m(\u001b[0m\u001b[0;34m-\u001b[0m\u001b[0;36m1\u001b[0m\u001b[0;34m)\u001b[0m\u001b[0;34m\u001b[0m\u001b[0;34m\u001b[0m\u001b[0m\n\u001b[0m\u001b[1;32m     83\u001b[0m \u001b[0;34m\u001b[0m\u001b[0m\n\u001b[1;32m     84\u001b[0m         \u001b[0;32mif\u001b[0m \u001b[0;32mnot\u001b[0m \u001b[0mself\u001b[0m\u001b[0;34m.\u001b[0m\u001b[0mfloating_dtype\u001b[0m\u001b[0;34m:\u001b[0m\u001b[0;34m\u001b[0m\u001b[0;34m\u001b[0m\u001b[0m\n",
            "\u001b[0;31mRuntimeError\u001b[0m: setStorage: sizes [6], strides [2], storage offset 0, and itemsize 4 requiring a storage size of 44 are out of bounds for storage of size 16"
          ]
        }
      ]
    },
    {
      "cell_type": "code",
      "source": [
        ""
      ],
      "metadata": {
        "id": "_b4ULWIicwjG"
      },
      "execution_count": 8,
      "outputs": []
    }
  ]
}